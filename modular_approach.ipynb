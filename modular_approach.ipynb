{
 "cells": [
  {
   "cell_type": "code",
   "execution_count": 14,
   "id": "397f6d74",
   "metadata": {},
   "outputs": [],
   "source": [
    "from langgraph.graph import StateGraph, END\n",
    "from langgraph.prebuilt.tool_node import ToolNode\n",
    "from langchain_community.chat_models import ChatOllama\n",
    "from langchain.tools import tool\n",
    "from pydantic import BaseModel\n",
    "from typing import TypedDict"
   ]
  },
  {
   "cell_type": "code",
   "execution_count": 15,
   "id": "43d23cec",
   "metadata": {},
   "outputs": [],
   "source": [
    "class VariantSQLInput(BaseModel):\n",
    "    question: str\n",
    "\n",
    "class DurationSQLInput(BaseModel):\n",
    "    question: str\n",
    "\n",
    "class GenericSQLInput(BaseModel):\n",
    "    question: str"
   ]
  },
  {
   "cell_type": "code",
   "execution_count": 17,
   "id": "61188c4c",
   "metadata": {},
   "outputs": [],
   "source": [
    "llm_sql = ChatOllama(model=\"mistral-nemo:latest\")\n",
    "\n",
    "@tool(\"generate_variant_sql\", args_schema=VariantSQLInput)\n",
    "def generate_variant_sql_tool(input: VariantSQLInput) -> str:\n",
    "    \"\"\"Generate SQL query to analyze process variants based on the input question.\"\"\"\n",
    "    prompt = f\"You are an expert in SQL and process mining. Generate a SQL query to analyze process variants.\\nQuestion: {input.question}\"\n",
    "    return llm_sql.invoke(prompt)\n",
    "\n",
    "@tool(\"generate_duration_sql\", args_schema=DurationSQLInput)\n",
    "def generate_duration_sql_tool(input: DurationSQLInput) -> str:\n",
    "    \"\"\"Generate SQL to calculate average duration of activities based on the input question.\"\"\"\n",
    "    prompt = f\"Generate SQL to calculate the average duration of activities.\\nQuestion: {input.question}\"\n",
    "    return llm_sql.invoke(prompt)\n",
    "\n",
    "@tool(\"generate_generic_sql\", args_schema=GenericSQLInput)\n",
    "def generate_generic_sql_tool(input: GenericSQLInput) -> str:\n",
    "    \"\"\"Generate SQL to answer a generic process mining question.\"\"\"\n",
    "    prompt = f\"Generate SQL to answer the following business process mining question.\\nQuestion: {input.question}\"\n",
    "    return llm_sql.invoke(prompt)\n"
   ]
  },
  {
   "cell_type": "code",
   "execution_count": 23,
   "id": "3d0b8d84",
   "metadata": {},
   "outputs": [
    {
     "ename": "NotImplementedError",
     "evalue": "",
     "output_type": "error",
     "traceback": [
      "\u001b[31m---------------------------------------------------------------------------\u001b[39m",
      "\u001b[31mNotImplementedError\u001b[39m                       Traceback (most recent call last)",
      "\u001b[36mCell\u001b[39m\u001b[36m \u001b[39m\u001b[32mIn[23]\u001b[39m\u001b[32m, line 6\u001b[39m\n\u001b[32m      1\u001b[39m tools= [\n\u001b[32m      2\u001b[39m     generate_variant_sql_tool,\n\u001b[32m      3\u001b[39m     generate_duration_sql_tool,\n\u001b[32m      4\u001b[39m     generate_generic_sql_tool,\n\u001b[32m      5\u001b[39m ]\n\u001b[32m----> \u001b[39m\u001b[32m6\u001b[39m mdoel_tools= \u001b[43mChatOllama\u001b[49m\u001b[43m(\u001b[49m\u001b[43mmodel\u001b[49m\u001b[43m=\u001b[49m\u001b[33;43m\"\u001b[39;49m\u001b[33;43mmistral-nemo:latest\u001b[39;49m\u001b[33;43m\"\u001b[39;49m\u001b[43m)\u001b[49m\u001b[43m.\u001b[49m\u001b[43mbind_tools\u001b[49m\u001b[43m(\u001b[49m\u001b[43mtools\u001b[49m\u001b[43m)\u001b[49m\n\u001b[32m      7\u001b[39m tool_node= ToolNode(tools)\n",
      "\u001b[36mFile \u001b[39m\u001b[32mc:\\Users\\emers\\Downloads\\Github\\LLM-Testing\\.venv\\Lib\\site-packages\\langchain_core\\language_models\\chat_models.py:1273\u001b[39m, in \u001b[36mBaseChatModel.bind_tools\u001b[39m\u001b[34m(self, tools, tool_choice, **kwargs)\u001b[39m\n\u001b[32m   1255\u001b[39m \u001b[38;5;28;01mdef\u001b[39;00m\u001b[38;5;250m \u001b[39m\u001b[34mbind_tools\u001b[39m(\n\u001b[32m   1256\u001b[39m     \u001b[38;5;28mself\u001b[39m,\n\u001b[32m   1257\u001b[39m     tools: Sequence[\n\u001b[32m   (...)\u001b[39m\u001b[32m   1262\u001b[39m     **kwargs: Any,\n\u001b[32m   1263\u001b[39m ) -> Runnable[LanguageModelInput, BaseMessage]:\n\u001b[32m   1264\u001b[39m \u001b[38;5;250m    \u001b[39m\u001b[33;03m\"\"\"Bind tools to the model.\u001b[39;00m\n\u001b[32m   1265\u001b[39m \n\u001b[32m   1266\u001b[39m \u001b[33;03m    Args:\u001b[39;00m\n\u001b[32m   (...)\u001b[39m\u001b[32m   1271\u001b[39m \u001b[33;03m        A Runnable that returns a message.\u001b[39;00m\n\u001b[32m   1272\u001b[39m \u001b[33;03m    \"\"\"\u001b[39;00m\n\u001b[32m-> \u001b[39m\u001b[32m1273\u001b[39m     \u001b[38;5;28;01mraise\u001b[39;00m \u001b[38;5;167;01mNotImplementedError\u001b[39;00m\n",
      "\u001b[31mNotImplementedError\u001b[39m: "
     ]
    }
   ],
   "source": [
    "tools= [\n",
    "    generate_variant_sql_tool,\n",
    "    generate_duration_sql_tool,\n",
    "    generate_generic_sql_tool,\n",
    "]\n",
    "mdoel_tools= ChatOllama(model=\"mistral-nemo:latest\").bind_tools(tools)\n",
    "tool_node= ToolNode(tools)"
   ]
  },
  {
   "cell_type": "code",
   "execution_count": null,
   "id": "6aabe679",
   "metadata": {},
   "outputs": [
    {
     "ename": "AttributeError",
     "evalue": "type object 'ToolNode' has no attribute 'from_tools'",
     "output_type": "error",
     "traceback": [
      "\u001b[31m---------------------------------------------------------------------------\u001b[39m",
      "\u001b[31mAttributeError\u001b[39m                            Traceback (most recent call last)",
      "\u001b[36mCell\u001b[39m\u001b[36m \u001b[39m\u001b[32mIn[24]\u001b[39m\u001b[32m, line 1\u001b[39m\n\u001b[32m----> \u001b[39m\u001b[32m1\u001b[39m tool_node = \u001b[43mToolNode\u001b[49m\u001b[43m.\u001b[49m\u001b[43mfrom_tools\u001b[49m(\n\u001b[32m      2\u001b[39m     [generate_variant_sql_tool, generate_duration_sql_tool, generate_generic_sql_tool],\n\u001b[32m      3\u001b[39m     llm=router_llm\n\u001b[32m      4\u001b[39m )\n",
      "\u001b[31mAttributeError\u001b[39m: type object 'ToolNode' has no attribute 'from_tools'"
     ]
    }
   ],
   "source": []
  },
  {
   "cell_type": "code",
   "execution_count": null,
   "id": "6b1f37b1",
   "metadata": {},
   "outputs": [],
   "source": []
  }
 ],
 "metadata": {
  "kernelspec": {
   "display_name": ".venv",
   "language": "python",
   "name": "python3"
  },
  "language_info": {
   "codemirror_mode": {
    "name": "ipython",
    "version": 3
   },
   "file_extension": ".py",
   "mimetype": "text/x-python",
   "name": "python",
   "nbconvert_exporter": "python",
   "pygments_lexer": "ipython3",
   "version": "3.13.2"
  }
 },
 "nbformat": 4,
 "nbformat_minor": 5
}
